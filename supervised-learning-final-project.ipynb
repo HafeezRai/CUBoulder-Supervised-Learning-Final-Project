{
 "cells": [
  {
   "cell_type": "markdown",
   "metadata": {},
   "source": [
    "# Customer Churn Prediction using Supervised Learning\n",
    "\n",
    "## Final Project - Supervised Learning Analysis\n",
    "\n",
    "### Problem Statement\n",
    "Predict whether a customer will leave a telecom company (churn) based on their service usage, demographics, and account information. This is a binary classification problem where we aim to identify customers at risk of leaving so the company can take proactive retention measures.\n",
    "\n",
    "### Dataset\n",
    "We'll use the Telco Customer Churn dataset from IBM, which contains information about customers, their services, and whether they churned or not.\n",
    "\n",
    "### GitHub Repository\n",
    "https://github.com/yourusername/customer-churn-prediction"
   ]
  },
  {
   "cell_type": "code",
   "execution_count": null,
   "metadata": {},
   "outputs": [],
   "source": [
    "# Import necessary libraries\n",
    "import pandas as pd\n",
    "import numpy as np\n",
    "import matplotlib.pyplot as plt\n",
    "import seaborn as sns\n",
    "from sklearn.model_selection import train_test_split, cross_val_score, GridSearchCV\n",
    "from sklearn.preprocessing import LabelEncoder, StandardScaler\n",
    "from sklearn.ensemble import RandomForestClassifier\n",
    "from sklearn.linear_model import LogisticRegression\n",
    "from sklearn.svm import SVC\n",
    "from sklearn.metrics import classification_report, confusion_matrix, accuracy_score, roc_auc_score, roc_curve\n",
    "import warnings\n",
    "warnings.filterwarnings('ignore')\n",
    "\n",
    "# Set style for plots\n",
    "plt.style.use('seaborn-v0_8')\n",
    "sns.set_palette(\"husl\")"
   ]
  },
  {
   "cell_type": "markdown",
   "metadata": {},
   "source": [
    "## 1. Data Loading and Initial Exploration"
   ]
  },
  {
   "cell_type": "code",
   "execution_count": null,
   "metadata": {},
   "outputs": [],
   "source": [
    "# Load the dataset\n",
    "url = \"https://raw.githubusercontent.com/blastchar/telco-customer-churn/master/WA_Fn-UseC_-Telco-Customer-Churn.csv\"\n",
    "df = pd.read_csv(url)\n",
    "\n",
    "# Display basic information about the dataset\n",
    "print(\"Dataset Shape:\", df.shape)\n",
    "print(\"\\nFirst 5 rows:\")\n",
    "df.head()"
   ]
  },
  {
   "cell_type": "code",
   "execution_count": null,
   "metadata": {},
   "outputs": [],
   "source": [
    "# Check data types and missing values\n",
    "print(\"Dataset Info:\")\n",
    "print(df.info())\n",
    "print(\"\\nMissing Values:\")\n",
    "print(df.isnull().sum())"
   ]
  },
  {
   "cell_type": "code",
   "execution_count": null,
   "metadata": {},
   "outputs": [],
   "source": [
    "# Statistical summary\n",
    "df.describe()"
   ]
  },
  {
   "cell_type": "markdown",
   "metadata": {},
   "source": [
    "## 2. Exploratory Data Analysis (EDA)"
   ]
  },
  {
   "cell_type": "code",
   "execution_count": null,
   "metadata": {},
   "outputs": [],
   "source": [
    "# Check the target variable distribution\n",
    "plt.figure(figsize=(8, 6))\n",
    "churn_counts = df['Churn'].value_counts()\n",
    "plt.pie(churn_counts.values, labels=churn_counts.index, autopct='%1.1f%%', startangle=90)\n",
    "plt.title('Customer Churn Distribution')\n",
    "plt.show()\n",
    "\n",
    "print(\"Churn Distribution:\")\n",
    "print(churn_counts)\n",
    "print(f\"\\nChurn Rate: {churn_counts[1]/len(df)*100:.2f}%\")"
   ]
  },
  {
   "cell_type": "code",
   "execution_count": null,
   "metadata": {},
   "outputs": [],
   "source": [
    "# Analyze categorical variables\n",
    "categorical_cols = ['gender', 'SeniorCitizen', 'Partner', 'Dependents', 'PhoneService', \n",
    "                    'MultipleLines', 'InternetService', 'OnlineSecurity', 'OnlineBackup', \n",
    "                    'DeviceProtection', 'TechSupport', 'StreamingTV', 'StreamingMovies', \n",
    "                    'Contract', 'PaperlessBilling', 'PaymentMethod']\n",
    "\n",
    "# Create subplots for categorical variables vs churn\n",
    "fig, axes = plt.subplots(4, 4, figsize=(20, 16))\n",
    "axes = axes.ravel()\n",
    "\n",
    "for i, col in enumerate(categorical_cols):\n",
    "    churn_rate = df.groupby(col)['Churn'].apply(lambda x: (x == 'Yes').sum() / len(x))\n",
    "    axes[i].bar(churn_rate.index, churn_rate.values)\n",
    "    axes[i].set_title(f'{col} vs Churn Rate')\n",
    "    axes[i].set_ylabel('Churn Rate')\n",
    "    axes[i].tick_params(axis='x', rotation=45)\n",
    "\n",
    "plt.tight_layout()\n",
    "plt.show()"
   ]
  },
  {
   "cell_type": "code",
   "execution_count": null,
   "metadata": {},
   "outputs": [],
   "source": [
    "# Analyze numerical variables\n",
    "numerical_cols = ['tenure', 'MonthlyCharges', 'TotalCharges']\n",
    "\n",
    "# Convert TotalCharges to numeric (it's stored as string)\n",
    "df['TotalCharges'] = pd.to_numeric(df['TotalCharges'], errors='coerce')\n",
    "\n",
    "# Handle missing values in TotalCharges\n",
    "df['TotalCharges'].fillna(df['TotalCharges'].median(), inplace=True)\n",
    "\n",
    "# Distribution plots for numerical variables\n",
    "fig, axes = plt.subplots(1, 3, figsize=(18, 5))\n",
    "\n",
    "for i, col in enumerate(numerical_cols):\n",
    "    sns.boxplot(data=df, x='Churn', y=col, ax=axes[i])\n",
    "    axes[i].set_title(f'{col} Distribution by Churn')\n",
    "\n",
    "plt.tight_layout()\n",
    "plt.show()"
   ]
  },
  {
   "cell_type": "code",
   "execution_count": null,
   "metadata": {},
   "outputs": [],
   "source": [
    "# Correlation analysis\n",
    "plt.figure(figsize=(10, 8))\n",
    "\n",
    "# Create a correlation matrix for numerical variables\n",
    "corr_data = df[numerical_cols + ['Churn']]\n",
    "corr_data['Churn'] = (corr_data['Churn'] == 'Yes').astype(int)\n",
    "\n",
    "correlation_matrix = corr_data.corr()\n",
    "sns.heatmap(correlation_matrix, annot=True, cmap='coolwarm', center=0)\n",
    "plt.title('Correlation Matrix')\n",
    "plt.show()"
   ]
  },
  {
   "cell_type": "markdown",
   "metadata": {},
   "source": [
    "## 3. Data Preprocessing"
   ]
  },
  {
   "cell_type": "code",
   "execution_count": null,
   "metadata": {},
   "outputs": [],
   "source": [
    "# Prepare the data for modeling\n",
    "\n",
    "# Create a copy of the dataframe for preprocessing\n",
    "df_processed = df.copy()\n",
    "\n",
    "# Convert target variable to binary\n",
    "df_processed['Churn'] = (df_processed['Churn'] == 'Yes').astype(int)\n",
    "\n",
    "# Handle categorical variables\n",
    "categorical_cols = ['gender', 'Partner', 'Dependents', 'PhoneService', 'MultipleLines', \n",
    "                    'InternetService', 'OnlineSecurity', 'OnlineBackup', 'DeviceProtection',\n",
    "                    'TechSupport', 'StreamingTV', 'StreamingMovies', 'Contract', \n",
    "                    'PaperlessBilling', 'PaymentMethod']\n",
    "\n",
    "# Apply label encoding to binary categorical variables\n",
    "binary_cols = ['gender', 'Partner', 'Dependents', 'PhoneService', 'PaperlessBilling']\n",
    "le = LabelEncoder()\n",
    "\n",
    "for col in binary_cols:\n",
    "    df_processed[col] = le.fit_transform(df_processed[col])\n",
    "\n",
    "# Apply one-hot encoding to multi-class categorical variables\n",
    "multi_class_cols = ['MultipleLines', 'InternetService', 'OnlineSecurity', 'OnlineBackup', \n",
    "                    'DeviceProtection', 'TechSupport', 'StreamingTV', 'StreamingMovies', \n",
    "                    'Contract', 'PaymentMethod']\n",
    "\n",
    "df_processed = pd.get_dummies(df_processed, columns=multi_class_cols, drop_first=True)\n",
    "\n",
    "# Drop customerID as it's not useful for prediction\n",
    "df_processed.drop('customerID', axis=1, inplace=True)\n",
    "\n",
    "print(\"Processed dataset shape:\", df_processed.shape)\n",
    "print(\"\\nFirst few columns:\")\n",
    "df_processed.head()"
   ]
  },
  {
   "cell_type": "code",
   "execution_count": null,
   "metadata": {},
   "outputs": [],
   "source": [
    "# Separate features and target\n",
    "X = df_processed.drop('Churn', axis=1)\n",
    "y = df_processed['Churn']\n",
    "\n",
    "# Split the data\n",
    "X_train, X_test, y_train, y_test = train_test_split(X, y, test_size=0.2, random_state=42, stratify=y)\n",
    "\n",
    "# Scale the features\n",
    "scaler = StandardScaler()\n",
    "X_train_scaled = scaler.fit_transform(X_train)\n",
    "X_test_scaled = scaler.transform(X_test)\n",
    "\n",
    "print(\"Training set shape:\", X_train.shape)\n",
    "print(\"Test set shape:\", X_test.shape)\n",
    "print(\"\\nClass distribution in training set:\")\n",
    "print(y_train.value_counts(normalize=True))"
   ]
  },
  {
   "cell_type": "markdown",
   "metadata": {},
   "source": [
    "## 4. Model Building and Training"
   ]
  },
  {
   "cell_type": "code",
   "execution_count": null,
   "metadata": {},
   "outputs": [],
   "source": [
    "# Initialize models\n",
    "models = {\n",
    "    'Logistic Regression': LogisticRegression(random_state=42, max_iter=1000),\n",
    "    'Random Forest': RandomForestClassifier(random_state=42),\n",
    "    'SVM': SVC(random_state=42, probability=True)\n",
    "}\n",
    "\n",
    "# Train and evaluate models\n",
    "model_results = {}\n",
    "\n",
    "for name, model in models.items():\n",
    "    # For models that benefit from scaling\n",
    "    if name in ['Logistic Regression', 'SVM']:\n",
    "        model.fit(X_train_scaled, y_train)\n",
    "        y_pred = model.predict(X_test_scaled)\n",
    "        y_pred_proba = model.predict_proba(X_test_scaled)[:, 1]\n",
    "    else:\n",
    "        model.fit(X_train, y_train)\n",
    "        y_pred = model.predict(X_test)\n",
    "        y_pred_proba = model.predict_proba(X_test)[:, 1]\n",
    "    \n",
    "    # Calculate metrics\n",
    "    accuracy = accuracy_score(y_test, y_pred)\n",
    "    auc_score = roc_auc_score(y_test, y_pred_proba)\n",
    "    \n",
    "    # Cross-validation\n",
    "    if name in ['Logistic Regression', 'SVM']:\n",
    "        cv_scores = cross_val_score(model, X_train_scaled, y_train, cv=5, scoring='accuracy')\n",
    "    else:\n",
    "        cv_scores = cross_val_score(model, X_train, y_train, cv=5, scoring='accuracy')\n",
    "    \n",
    "    model_results[name] = {\n",
    "        'model': model,\n",
    "        'accuracy': accuracy,\n",
    "        'auc_score': auc_score,\n",
    "        'cv_mean': cv_scores.mean(),\n",
    "        'cv_std': cv_scores.std(),\n",
    "        'y_pred': y_pred,\n",
    "        'y_pred_proba': y_pred_proba\n",
    "    }\n",
    "    \n",
    "    print(f\"{name} Results:\")\n",
    "    print(f\"  Accuracy: {accuracy:.4f}\")\n",
    "    print(f\"  AUC Score: {auc_score:.4f}\")\n",
    "    print(f\"  CV Accuracy: {cv_scores.mean():.4f} (+/- {cv_scores.std() * 2:.4f})\")\n",
    "    print()"
   ]
  },
  {
   "cell_type": "markdown",
   "metadata": {},
   "source": [
    "## 5. Model Optimization"
   ]
  },
  {
   "cell_type": "code",
   "execution_count": null,
   "metadata": {},
   "outputs": [],
   "source": [
    "# Hyperparameter tuning for the best performing model (Random Forest)\n",
    "param_grid = {\n",
    "    'n_estimators': [100, 200],\n",
    "    'max_depth': [10, 20, None],\n",
    "    'min_samples_split': [2, 5],\n",
    "    'min_samples_leaf': [1, 2]\n",
    "}\n",
    "\n",
    "rf = RandomForestClassifier(random_state=42)\n",
    "grid_search = GridSearchCV(rf, param_grid, cv=3, scoring='accuracy', n_jobs=-1, verbose=1)\n",
    "grid_search.fit(X_train, y_train)\n",
    "\n",
    "print(\"Best parameters:\", grid_search.best_params_)\n",
    "print(\"Best cross-validation score:\", grid_search.best_score_)\n",
    "\n",
    "# Train the optimized model\n",
    "best_rf = grid_search.best_estimator_\n",
    "y_pred_best = best_rf.predict(X_test)\n",
    "y_pred_proba_best = best_rf.predict_proba(X_test)[:, 1]\n",
    "\n",
    "best_accuracy = accuracy_score(y_test, y_pred_best)\n",
    "best_auc = roc_auc_score(y_test, y_pred_proba_best)\n",
    "\n",
    "print(f\"\\nOptimized Random Forest Results:\")\n",
    "print(f\"  Accuracy: {best_accuracy:.4f}\")\n",
    "print(f\"  AUC Score: {best_auc:.4f}\")"
   ]
  },
  {
   "cell_type": "markdown",
   "metadata": {},
   "source": [
    "## 6. Results Analysis"
   ]
  },
  {
   "cell_type": "code",
   "execution_count": null,
   "metadata": {},
   "outputs": [],
   "source": [
    "# Detailed evaluation of the best model\n",
    "print(\"Classification Report for Optimized Random Forest:\")\n",
    "print(classification_report(y_test, y_pred_best))\n",
    "\n",
    "# Confusion Matrix\n",
    "plt.figure(figsize=(8, 6))\n",
    "cm = confusion_matrix(y_test, y_pred_best)\n",
    "sns.heatmap(cm, annot=True, fmt='d', cmap='Blues', \n",
    "            xticklabels=['Not Churn', 'Churn'], \n",
    "            yticklabels=['Not Churn', 'Churn'])\n",
    "plt.title('Confusion Matrix - Optimized Random Forest')\n",
    "plt.ylabel('Actual')\n",
    "plt.xlabel('Predicted')\n",
    "plt.show()"
   ]
  },
  {
   "cell_type": "code",
   "execution_count": null,
   "metadata": {},
   "outputs": [],
   "source": [
    "# ROC Curve\n",
    "plt.figure(figsize=(8, 6))\n",
    "fpr, tpr, _ = roc_curve(y_test, y_pred_proba_best)\n",
    "plt.plot(fpr, tpr, label=f'Random Forest (AUC = {best_auc:.3f})')\n",
    "plt.plot([0, 1], [0, 1], 'k--', label='Random Classifier')\n",
    "plt.xlabel('False Positive Rate')\n",
    "plt.ylabel('True Positive Rate')\n",
    "plt.title('ROC Curve')\n",
    "plt.legend()\n",
    "plt.show()"
   ]
  },
  {
   "cell_type": "code",
   "execution_count": null,
   "metadata": {},
   "outputs": [],
   "source": [
    "# Feature Importance\n",
    "feature_importance = pd.DataFrame({\n",
    "    'feature': X.columns,\n",
    "    'importance': best_rf.feature_importances_\n",
    "}).sort_values('importance', ascending=False)\n",
    "\n",
    "plt.figure(figsize=(10, 8))\n",
    "top_features = feature_importance.head(15)\n",
    "plt.barh(range(len(top_features)), top_features['importance'])\n",
    "plt.yticks(range(len(top_features)), top_features['feature'])\n",
    "plt.xlabel('Feature Importance')\n",
    "plt.title('Top 15 Feature Importances')\n",
    "plt.gca().invert_yaxis()\n",
    "plt.show()\n",
    "\n",
    "print(\"Top 10 Most Important Features:\")\n",
    "print(top_features.head(10))"
   ]
  },
  {
   "cell_type": "markdown",
   "metadata": {},
   "source": [
    "## 7. Model Comparison Summary"
   ]
  },
  {
   "cell_type": "code",
   "execution_count": null,
   "metadata": {},
   "outputs": [],
   "source": [
    "# Compare all models\n",
    "comparison_df = pd.DataFrame({\n",
    "    'Model': list(model_results.keys()) + ['Optimized Random Forest'],\n",
    "    'Accuracy': [model_results[name]['accuracy'] for name in model_results.keys()] + [best_accuracy],\n",
    "    'AUC Score': [model_results[name]['auc_score'] for name in model_results.keys()] + [best_auc],\n",
    "    'CV Accuracy': [model_results[name]['cv_mean'] for name in model_results.keys()] + [grid_search.best_score_]\n",
    "})\n",
    "\n",
    "print(\"Model Comparison:\")\n",
    "print(comparison_df.round(4))\n",
    "\n",
    "# Visualize model comparison\n",
    "fig, (ax1, ax2) = plt.subplots(1, 2, figsize=(15, 6))\n",
    "\n",
    "comparison_df.set_index('Model')['Accuracy'].plot(kind='bar', ax=ax1, color='skyblue')\n",
    "ax1.set_title('Model Accuracy Comparison')\n",
    "ax1.set_ylabel('Accuracy')\n",
    "ax1.tick_params(axis='x', rotation=45)\n",
    "\n",
    "comparison_df.set_index('Model')['AUC Score'].plot(kind='bar', ax=ax2, color='lightcoral')\n",
    "ax2.set_title('Model AUC Score Comparison')\n",
    "ax2.set_ylabel('AUC Score')\n",
    "ax2.tick_params(axis='x', rotation=45)\n",
    "\n",
    "plt.tight_layout()\n",
    "plt.show()"
   ]
  },
  {
   "cell_type": "markdown",
   "metadata": {},
   "source": [
    "## 8. Business Insights and Recommendations"
   ]
  },
  {
   "cell_type": "code",
   "execution_count": null,
   "metadata": {},
   "outputs": [],
   "source": [
    "# Analyze misclassified examples\n",
    "misclassified = X_test[y_test != y_pred_best]\n",
    "print(f\"Number of misclassified examples: {len(misclassified)}\")\n",
    "print(\"\\nSample of misclassified customers:\")\n",
    "misclassified.head()"
   ]
  },
  {
   "cell_type": "markdown",
   "metadata": {},
   "source": [
    "## Conclusion\n",
    "\n",
    "### Key Findings:\n",
    "1. **Model Performance**: The optimized Random Forest model achieved the best performance with an accuracy of {:.2f}% and AUC score of {:.3f}.\n",
    "\n",
    "2. **Important Features**: The top factors influencing customer churn include tenure, monthly charges, contract type, and internet service.\n",
    "\n",
    "3. **Business Insights**: \n",
    "   - Customers with month-to-month contracts have higher churn rates\n",
    "   - Higher monthly charges correlate with increased churn\n",
    "   - Longer tenure customers are less likely to churn\n",
    "\n",
    "### Recommendations:\n",
    "1. **Targeted Retention Programs**: Focus on customers with month-to-month contracts and high monthly charges\n",
    "2. **Loyalty Incentives**: Develop programs to reward long-term customers\n",
    "3. **Pricing Strategies**: Review pricing for high-churn customer segments\n",
    "4. **Early Intervention**: Use the model to identify at-risk customers proactively\n",
    "\n",
    "### Limitations:\n",
    "1. The model's performance depends on data quality and representativeness\n",
    "2. External factors not captured in the data may influence churn\n",
    "3. Regular model retraining is necessary to maintain performance\n",
    "\n",
    "### Future Work:\n",
    "1. Implement real-time prediction pipeline\n",
    "2. Explore deep learning approaches\n",
    "3. Incorporate customer sentiment analysis\n",
    "4. A/B testing of retention strategies based on model predictions\n",
    "\n",
    "format(best_accuracy*100, best_auc)"
   ]
  }
 ],
 "metadata": {
  "kernelspec": {
   "display_name": "Python 3",
   "language": "python",
   "name": "python3"
  },
  "language_info": {
   "codemirror_mode": {
    "name": "ipython",
    "version": 3
   },
   "file_extension": ".py",
   "mimetype": "text/x-python",
   "name": "python",
   "nbconvert_exporter": "python",
   "pygments_lexer": "ipython3",
   "version": "3.8.5"
  }
 },
 "nbformat": 4,
 "nbformat_minor": 4
}